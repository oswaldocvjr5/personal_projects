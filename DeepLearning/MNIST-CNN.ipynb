{
 "cells": [
  {
   "cell_type": "markdown",
   "id": "eb0e2ee9",
   "metadata": {},
   "source": [
    "# Set the Random Seed"
   ]
  },
  {
   "cell_type": "code",
   "execution_count": 1,
   "id": "c0eec350",
   "metadata": {},
   "outputs": [],
   "source": [
    "# for reproducibility\n",
    "from numpy.random import seed\n",
    "seed(1)\n",
    "\n",
    "import tensorflow\n",
    "tensorflow.random.set_seed(1)"
   ]
  },
  {
   "cell_type": "code",
   "execution_count": 2,
   "id": "74aca670",
   "metadata": {},
   "outputs": [],
   "source": [
    "from keras.datasets import mnist\n",
    "from keras.models import Sequential\n",
    "from keras.layers import Dense, Activation\n",
    "from keras.layers import Convolution2D, MaxPooling2D\n",
    "from keras.layers import Flatten\n",
    "from keras.utils import np_utils"
   ]
  },
  {
   "cell_type": "markdown",
   "id": "2c5d88ef",
   "metadata": {},
   "source": [
    "# Reshape the Data\n",
    "<code>X_train</code> is reshaped as a 4D array. The outer dimension is the number of images (60,000). The next dimension corresponds to an array of 28 2D arrays (matrices). The last dimension is a single 2D array with 28 lists of 0's. "
   ]
  },
  {
   "cell_type": "code",
   "execution_count": 3,
   "id": "e65af0e2",
   "metadata": {},
   "outputs": [],
   "source": [
    "(X_train, Y_train), (X_test, Y_test) = mnist.load_data()\n",
    "X_train = X_train.reshape(60000, 28, 28, 1)\n",
    "X_test = X_test.reshape(10000, 28, 28, 1)\n",
    "Y_train = np_utils.to_categorical(Y_train, 10)\n",
    "Y_test = np_utils.to_categorical(Y_test, 10)"
   ]
  },
  {
   "cell_type": "markdown",
   "id": "0e723039",
   "metadata": {},
   "source": [
    "# Train a Fully Connected Convultional Neural Network\n",
    "* The model has 2 convolutional layers, 1 max pooling layer, and 2 fully-connected layers.\n",
    "* There is a flatter between max pooling and fully connected layer because the fully connected layer expects 1D input, but the output of the convolutional layer is 3D."
   ]
  },
  {
   "cell_type": "code",
   "execution_count": 4,
   "id": "4c6a0dfd",
   "metadata": {
    "scrolled": true
   },
   "outputs": [
    {
     "name": "stdout",
     "output_type": "stream",
     "text": [
      "Model: \"sequential\"\n",
      "_________________________________________________________________\n",
      " Layer (type)                Output Shape              Param #   \n",
      "=================================================================\n",
      " conv2d (Conv2D)             (None, 26, 26, 32)        320       \n",
      "                                                                 \n",
      " activation (Activation)     (None, 26, 26, 32)        0         \n",
      "                                                                 \n",
      " conv2d_1 (Conv2D)           (None, 24, 24, 32)        9248      \n",
      "                                                                 \n",
      " activation_1 (Activation)   (None, 24, 24, 32)        0         \n",
      "                                                                 \n",
      " max_pooling2d (MaxPooling2D  (None, 12, 12, 32)       0         \n",
      " )                                                               \n",
      "                                                                 \n",
      " flatten (Flatten)           (None, 4608)              0         \n",
      "                                                                 \n",
      " dense (Dense)               (None, 64)                294976    \n",
      "                                                                 \n",
      " activation_2 (Activation)   (None, 64)                0         \n",
      "                                                                 \n",
      " dense_1 (Dense)             (None, 10)                650       \n",
      "                                                                 \n",
      " activation_3 (Activation)   (None, 10)                0         \n",
      "                                                                 \n",
      "=================================================================\n",
      "Total params: 305,194\n",
      "Trainable params: 305,194\n",
      "Non-trainable params: 0\n",
      "_________________________________________________________________\n",
      "None\n"
     ]
    }
   ],
   "source": [
    "model = Sequential([\n",
    "    Convolution2D(\n",
    "         filters=32,\n",
    "         kernel_size=(3, 3),\n",
    "         input_shape=(28, 28, 1)), # first conv layer\n",
    "         Activation('relu'),\n",
    "    Convolution2D(\n",
    "         filters=32,\n",
    "         kernel_size=(3, 3)), # second conv layer\n",
    "         Activation('relu'),\n",
    "         MaxPooling2D(pool_size=(2, 2)), # max pooling layer\n",
    "     Flatten(), # flatten the output tensor\n",
    "     Dense(64), # fully-connected hidden layer\n",
    "     Activation('relu'),\n",
    "     Dense(10), # output layer\n",
    "     Activation('softmax')]\n",
    ")\n",
    "\n",
    "print(model.summary())"
   ]
  },
  {
   "cell_type": "markdown",
   "id": "f946f3ef",
   "metadata": {},
   "source": [
    "# Define the Model Optimizer\n",
    "ADADELTA will be used instead of SGD (Stochastic Gradient Descent). This way the network does not learn too slowly and it does not skip a the minimum (loss) by taking too large a step."
   ]
  },
  {
   "cell_type": "code",
   "execution_count": 5,
   "id": "7a0eab1d",
   "metadata": {},
   "outputs": [],
   "source": [
    "model.compile(loss='categorical_crossentropy',\n",
    "metrics=['accuracy'], optimizer='adadelta')"
   ]
  },
  {
   "cell_type": "markdown",
   "id": "0295efba",
   "metadata": {},
   "source": [
    "# Train the Model for 5 Epochs\n",
    "**NOTE:** May need to add more epochs for higher accuracy."
   ]
  },
  {
   "cell_type": "code",
   "execution_count": 6,
   "id": "37b9cb91",
   "metadata": {},
   "outputs": [
    {
     "name": "stdout",
     "output_type": "stream",
     "text": [
      "Epoch 1/5\n",
      "540/540 [==============================] - 37s 67ms/step - loss: 11.2939 - accuracy: 0.1860 - val_loss: 6.5329 - val_accuracy: 0.3302\n",
      "Epoch 2/5\n",
      "540/540 [==============================] - 39s 72ms/step - loss: 5.1089 - accuracy: 0.4176 - val_loss: 3.5868 - val_accuracy: 0.5242\n",
      "Epoch 3/5\n",
      "540/540 [==============================] - 36s 66ms/step - loss: 3.1955 - accuracy: 0.5576 - val_loss: 2.3681 - val_accuracy: 0.6348\n",
      "Epoch 4/5\n",
      "540/540 [==============================] - 40s 75ms/step - loss: 2.3290 - accuracy: 0.6412 - val_loss: 1.7651 - val_accuracy: 0.7000\n",
      "Epoch 5/5\n",
      "540/540 [==============================] - 35s 65ms/step - loss: 1.8493 - accuracy: 0.6947 - val_loss: 1.4121 - val_accuracy: 0.7407\n"
     ]
    },
    {
     "data": {
      "text/plain": [
       "<keras.callbacks.History at 0x1fa8acaba90>"
      ]
     },
     "execution_count": 6,
     "metadata": {},
     "output_type": "execute_result"
    }
   ],
   "source": [
    "model.fit(X_train, Y_train, batch_size=100, epochs=5,\n",
    "validation_split=0.1, verbose=1)"
   ]
  },
  {
   "cell_type": "markdown",
   "id": "0210a274",
   "metadata": {},
   "source": [
    "# Test the Model\n",
    "**NOTE:** Test accuracy does not follow the 95% test accuracy shown in Chapter 3."
   ]
  },
  {
   "cell_type": "code",
   "execution_count": 8,
   "id": "fb7776f1",
   "metadata": {},
   "outputs": [
    {
     "name": "stdout",
     "output_type": "stream",
     "text": [
      "313/313 [==============================] - 1s 5ms/step - loss: 1.5267 - accuracy: 0.7251\n",
      "Test accuracy: 0.7250999808311462\n"
     ]
    }
   ],
   "source": [
    "score = model.evaluate(X_test, Y_test, verbose=1)\n",
    "print('Test accuracy:', score[1])"
   ]
  }
 ],
 "metadata": {
  "kernelspec": {
   "display_name": "Python 3 (ipykernel)",
   "language": "python",
   "name": "python3"
  },
  "language_info": {
   "codemirror_mode": {
    "name": "ipython",
    "version": 3
   },
   "file_extension": ".py",
   "mimetype": "text/x-python",
   "name": "python",
   "nbconvert_exporter": "python",
   "pygments_lexer": "ipython3",
   "version": "3.8.16"
  }
 },
 "nbformat": 4,
 "nbformat_minor": 5
}
